{
 "cells": [
  {
   "cell_type": "code",
   "execution_count": 23,
   "metadata": {},
   "outputs": [],
   "source": [
    "import pandas as pd\n"
   ]
  },
  {
   "cell_type": "code",
   "execution_count": 24,
   "metadata": {},
   "outputs": [],
   "source": [
    "def limpiar_os(val):\n",
    "    num = 0\n",
    "    if \"Windows\" in val:\n",
    "        num = 1 \n",
    "    else:\n",
    "        num = 0\n",
    "    return num    \n",
    "\n",
    "def limpiar_sc(col):\n",
    "    res = []\n",
    "    for v in col:\n",
    "        cleaned_values = []\n",
    "        for l in v:\n",
    "            if l.isdigit():\n",
    "                cleaned_values.append(l)\n",
    "        res.append(''.join(cleaned_values))  # Concatenate digits into a single string\n",
    "\n",
    "    g1 = [int(x[:3]) for x in res]\n",
    "    g2 = [int(x[4:]) for x in res]\n",
    "\n",
    "    # Multiply corresponding elements of g1 and g2\n",
    "    result = [x * y for x, y in zip(g1, g2)]\n",
    "\n",
    "    return result\n",
    "\n",
    "\n",
    "def limpiar_st(col):\n",
    "    if \"+\" in col:\n",
    "        sto = col.split(\"+\")\n",
    "        value = 0\n",
    "        \n",
    "        for part in sto:\n",
    "            if \"Flash\" in part:\n",
    "                flash_value = part.strip(\"Flash Storage \").strip(\"GB\")\n",
    "                if flash_value.isdigit():\n",
    "                    value += int(flash_value) * 0.5\n",
    "            elif \"HDD\" in part:\n",
    "                if \"TB\" in part:\n",
    "                    hdd_value = part.strip(\"HDD \").strip(\"TB\")\n",
    "                    if hdd_value.isdigit():\n",
    "                        value += int(hdd_value) * 0.04 * 1000\n",
    "                else:\n",
    "                    hdd_value = part.strip(\"HDD \").strip(\"GB\")\n",
    "                    if hdd_value.isdigit():\n",
    "                        value += int(hdd_value) * 0.04\n",
    "            elif \"SSD\" in part:\n",
    "                ssd_value = part.strip(\"SSD \").strip(\"GB\")\n",
    "                if ssd_value.isdigit():\n",
    "                    value += int(ssd_value) * 0.5\n",
    "        \n",
    "        return value\n",
    "    else:\n",
    "        value = 0\n",
    "        if \"SSD\" in col:\n",
    "            ssd_value = col.strip(\"SSD \").strip(\"GB\")\n",
    "            if ssd_value.isdigit():\n",
    "                value += int(ssd_value) * 0.5\n",
    "        elif \"HDD\" in col:\n",
    "            if \"TB\" in col:\n",
    "                hdd_value = col.strip(\"HDD \").strip(\"TB\")\n",
    "                if hdd_value.isdigit():\n",
    "                    value += int(hdd_value) * 0.04 * 1000\n",
    "            else:\n",
    "                hdd_value = col.strip(\"HDD \").strip(\"GB\")\n",
    "                if hdd_value.isdigit():\n",
    "                    value += int(hdd_value) * 0.04\n",
    "        elif \"Flash\" in col:\n",
    "            flash_value = col.strip(\"Flash Storage \").strip(\"GB\")\n",
    "            if flash_value.isdigit():\n",
    "                value += int(flash_value) * 0.5\n",
    "        \n",
    "        return value\n",
    "\n",
    "\n",
    "\n",
    "def limpiar_ram(col):\n",
    "    return col.str.rstrip(\"GB\").astype(int)\n",
    "\n",
    "def limpiar_scs(col):\n",
    "    return col.str.rstrip('\"').astype(int)\n",
    "\n",
    "\n"
   ]
  },
  {
   "cell_type": "code",
   "execution_count": 25,
   "metadata": {},
   "outputs": [],
   "source": [
    "muestra = pd.read_csv(r\"C:\\Users\\Juan\\Desktop\\IronHack_apuntes\\Proyecto-Competicion-Kaggle\\muestra.csv\")"
   ]
  },
  {
   "cell_type": "code",
   "execution_count": 26,
   "metadata": {},
   "outputs": [],
   "source": [
    "test = pd.read_csv(r\"C:\\Users\\Juan\\Desktop\\IronHack_apuntes\\Proyecto-Competicion-Kaggle\\test.csv\")"
   ]
  },
  {
   "cell_type": "code",
   "execution_count": 27,
   "metadata": {},
   "outputs": [],
   "source": [
    "train = pd.read_csv(r\"C:\\Users\\Juan\\Desktop\\IronHack_apuntes\\Proyecto-Competicion-Kaggle\\train.csv\")"
   ]
  },
  {
   "cell_type": "code",
   "execution_count": 28,
   "metadata": {},
   "outputs": [
    {
     "data": {
      "text/plain": [
       "Windows      837\n",
       "No OS         52\n",
       "Linux         48\n",
       "Chrome OS     22\n",
       "macOS         13\n",
       "Mac OS         4\n",
       "Android        1\n",
       "Name: Operating System, dtype: int64"
      ]
     },
     "execution_count": 28,
     "metadata": {},
     "output_type": "execute_result"
    }
   ],
   "source": [
    "train[\"Operating System\"].value_counts()"
   ]
  },
  {
   "cell_type": "code",
   "execution_count": 29,
   "metadata": {},
   "outputs": [
    {
     "name": "stdout",
     "output_type": "stream",
     "text": [
      "<class 'pandas.core.frame.DataFrame'>\n",
      "RangeIndex: 977 entries, 0 to 976\n",
      "Data columns (total 13 columns):\n",
      " #   Column                    Non-Null Count  Dtype  \n",
      "---  ------                    --------------  -----  \n",
      " 0   Manufacturer              977 non-null    object \n",
      " 1   Model Name                977 non-null    object \n",
      " 2   Category                  977 non-null    object \n",
      " 3   Screen Size               977 non-null    object \n",
      " 4   Screen                    977 non-null    object \n",
      " 5   CPU                       977 non-null    object \n",
      " 6   RAM                       977 non-null    object \n",
      " 7    Storage                  977 non-null    object \n",
      " 8   GPU                       977 non-null    object \n",
      " 9   Operating System          977 non-null    object \n",
      " 10  Operating System Version  841 non-null    object \n",
      " 11  Weight                    977 non-null    object \n",
      " 12  Price                     977 non-null    float64\n",
      "dtypes: float64(1), object(12)\n",
      "memory usage: 99.4+ KB\n"
     ]
    }
   ],
   "source": [
    "train.info() #bastante feo el dataset"
   ]
  },
  {
   "cell_type": "code",
   "execution_count": 30,
   "metadata": {},
   "outputs": [
    {
     "data": {
      "text/plain": [
       "10      819\n",
       "7        10\n",
       "10 S      8\n",
       "X         4\n",
       "Name: Operating System Version, dtype: int64"
      ]
     },
     "execution_count": 30,
     "metadata": {},
     "output_type": "execute_result"
    }
   ],
   "source": [
    "train[\"Operating System Version\"].value_counts()"
   ]
  },
  {
   "cell_type": "code",
   "execution_count": 31,
   "metadata": {},
   "outputs": [
    {
     "data": {
      "text/plain": [
       "15.6\"    494\n",
       "14.0\"    146\n",
       "17.3\"    131\n",
       "13.3\"    123\n",
       "11.6\"     27\n",
       "12.5\"     23\n",
       "13.5\"      6\n",
       "13.9\"      6\n",
       "15.4\"      4\n",
       "12.3\"      4\n",
       "12.0\"      3\n",
       "15.0\"      3\n",
       "13.0\"      2\n",
       "10.1\"      1\n",
       "18.4\"      1\n",
       "17.0\"      1\n",
       "14.1\"      1\n",
       "11.3\"      1\n",
       "Name: Screen Size, dtype: int64"
      ]
     },
     "execution_count": 31,
     "metadata": {},
     "output_type": "execute_result"
    }
   ],
   "source": [
    "train[\"Screen Size\"].value_counts()"
   ]
  },
  {
   "cell_type": "code",
   "execution_count": 32,
   "metadata": {},
   "outputs": [
    {
     "name": "stdout",
     "output_type": "stream",
     "text": [
      "<class 'pandas.core.frame.DataFrame'>\n",
      "RangeIndex: 325 entries, 0 to 324\n",
      "Data columns (total 12 columns):\n",
      " #   Column                    Non-Null Count  Dtype \n",
      "---  ------                    --------------  ----- \n",
      " 0   Manufacturer              325 non-null    object\n",
      " 1   Model Name                325 non-null    object\n",
      " 2   Category                  325 non-null    object\n",
      " 3   Screen Size               325 non-null    object\n",
      " 4   Screen                    325 non-null    object\n",
      " 5   CPU                       325 non-null    object\n",
      " 6   RAM                       325 non-null    object\n",
      " 7    Storage                  325 non-null    object\n",
      " 8   GPU                       325 non-null    object\n",
      " 9   Operating System          325 non-null    object\n",
      " 10  Operating System Version  291 non-null    object\n",
      " 11  Weight                    325 non-null    object\n",
      "dtypes: object(12)\n",
      "memory usage: 30.6+ KB\n"
     ]
    }
   ],
   "source": [
    "test.info()"
   ]
  },
  {
   "cell_type": "code",
   "execution_count": 33,
   "metadata": {},
   "outputs": [
    {
     "data": {
      "text/plain": [
       "8GB     483\n",
       "4GB     271\n",
       "16GB    149\n",
       "6GB      24\n",
       "12GB     21\n",
       "32GB     16\n",
       "2GB      10\n",
       "24GB      3\n",
       "Name: RAM, dtype: int64"
      ]
     },
     "execution_count": 33,
     "metadata": {},
     "output_type": "execute_result"
    }
   ],
   "source": [
    "train.RAM.value_counts()"
   ]
  },
  {
   "cell_type": "code",
   "execution_count": 34,
   "metadata": {},
   "outputs": [
    {
     "data": {
      "text/html": [
       "<div>\n",
       "<style scoped>\n",
       "    .dataframe tbody tr th:only-of-type {\n",
       "        vertical-align: middle;\n",
       "    }\n",
       "\n",
       "    .dataframe tbody tr th {\n",
       "        vertical-align: top;\n",
       "    }\n",
       "\n",
       "    .dataframe thead th {\n",
       "        text-align: right;\n",
       "    }\n",
       "</style>\n",
       "<table border=\"1\" class=\"dataframe\">\n",
       "  <thead>\n",
       "    <tr style=\"text-align: right;\">\n",
       "      <th></th>\n",
       "      <th>Manufacturer</th>\n",
       "      <th>Model Name</th>\n",
       "      <th>Category</th>\n",
       "      <th>Screen Size</th>\n",
       "      <th>Screen</th>\n",
       "      <th>CPU</th>\n",
       "      <th>RAM</th>\n",
       "      <th>Storage</th>\n",
       "      <th>GPU</th>\n",
       "      <th>Operating System</th>\n",
       "      <th>Operating System Version</th>\n",
       "      <th>Weight</th>\n",
       "      <th>Price</th>\n",
       "    </tr>\n",
       "  </thead>\n",
       "  <tbody>\n",
       "    <tr>\n",
       "      <th>0</th>\n",
       "      <td>Apple</td>\n",
       "      <td>MacBook Pro</td>\n",
       "      <td>Ultrabook</td>\n",
       "      <td>13.3\"</td>\n",
       "      <td>IPS Panel Retina Display 2560x1600</td>\n",
       "      <td>Intel Core i5 2.3GHz</td>\n",
       "      <td>8GB</td>\n",
       "      <td>128GB SSD</td>\n",
       "      <td>Intel Iris Plus Graphics 640</td>\n",
       "      <td>macOS</td>\n",
       "      <td>NaN</td>\n",
       "      <td>1.37kg</td>\n",
       "      <td>11912523.48</td>\n",
       "    </tr>\n",
       "    <tr>\n",
       "      <th>1</th>\n",
       "      <td>Apple</td>\n",
       "      <td>Macbook Air</td>\n",
       "      <td>Ultrabook</td>\n",
       "      <td>13.3\"</td>\n",
       "      <td>1440x900</td>\n",
       "      <td>Intel Core i5 1.8GHz</td>\n",
       "      <td>8GB</td>\n",
       "      <td>128GB Flash Storage</td>\n",
       "      <td>Intel HD Graphics 6000</td>\n",
       "      <td>macOS</td>\n",
       "      <td>NaN</td>\n",
       "      <td>1.34kg</td>\n",
       "      <td>7993374.48</td>\n",
       "    </tr>\n",
       "    <tr>\n",
       "      <th>2</th>\n",
       "      <td>HP</td>\n",
       "      <td>250 G6</td>\n",
       "      <td>Notebook</td>\n",
       "      <td>15.6\"</td>\n",
       "      <td>Full HD 1920x1080</td>\n",
       "      <td>Intel Core i5 7200U 2.5GHz</td>\n",
       "      <td>8GB</td>\n",
       "      <td>256GB SSD</td>\n",
       "      <td>Intel HD Graphics 620</td>\n",
       "      <td>No OS</td>\n",
       "      <td>NaN</td>\n",
       "      <td>1.86kg</td>\n",
       "      <td>5112900.00</td>\n",
       "    </tr>\n",
       "    <tr>\n",
       "      <th>3</th>\n",
       "      <td>Apple</td>\n",
       "      <td>MacBook Pro</td>\n",
       "      <td>Ultrabook</td>\n",
       "      <td>15.4\"</td>\n",
       "      <td>IPS Panel Retina Display 2880x1800</td>\n",
       "      <td>Intel Core i7 2.7GHz</td>\n",
       "      <td>16GB</td>\n",
       "      <td>512GB SSD</td>\n",
       "      <td>AMD Radeon Pro 455</td>\n",
       "      <td>macOS</td>\n",
       "      <td>NaN</td>\n",
       "      <td>1.83kg</td>\n",
       "      <td>22563005.40</td>\n",
       "    </tr>\n",
       "    <tr>\n",
       "      <th>4</th>\n",
       "      <td>Apple</td>\n",
       "      <td>MacBook Pro</td>\n",
       "      <td>Ultrabook</td>\n",
       "      <td>13.3\"</td>\n",
       "      <td>IPS Panel Retina Display 2560x1600</td>\n",
       "      <td>Intel Core i5 3.1GHz</td>\n",
       "      <td>8GB</td>\n",
       "      <td>256GB SSD</td>\n",
       "      <td>Intel Iris Plus Graphics 650</td>\n",
       "      <td>macOS</td>\n",
       "      <td>NaN</td>\n",
       "      <td>1.37kg</td>\n",
       "      <td>16037611.20</td>\n",
       "    </tr>\n",
       "  </tbody>\n",
       "</table>\n",
       "</div>"
      ],
      "text/plain": [
       "  Manufacturer   Model Name   Category Screen Size  \\\n",
       "0        Apple  MacBook Pro  Ultrabook       13.3\"   \n",
       "1        Apple  Macbook Air  Ultrabook       13.3\"   \n",
       "2           HP       250 G6   Notebook       15.6\"   \n",
       "3        Apple  MacBook Pro  Ultrabook       15.4\"   \n",
       "4        Apple  MacBook Pro  Ultrabook       13.3\"   \n",
       "\n",
       "                               Screen                         CPU   RAM  \\\n",
       "0  IPS Panel Retina Display 2560x1600        Intel Core i5 2.3GHz   8GB   \n",
       "1                            1440x900        Intel Core i5 1.8GHz   8GB   \n",
       "2                   Full HD 1920x1080  Intel Core i5 7200U 2.5GHz   8GB   \n",
       "3  IPS Panel Retina Display 2880x1800        Intel Core i7 2.7GHz  16GB   \n",
       "4  IPS Panel Retina Display 2560x1600        Intel Core i5 3.1GHz   8GB   \n",
       "\n",
       "               Storage                           GPU Operating System  \\\n",
       "0            128GB SSD  Intel Iris Plus Graphics 640            macOS   \n",
       "1  128GB Flash Storage        Intel HD Graphics 6000            macOS   \n",
       "2            256GB SSD         Intel HD Graphics 620            No OS   \n",
       "3            512GB SSD            AMD Radeon Pro 455            macOS   \n",
       "4            256GB SSD  Intel Iris Plus Graphics 650            macOS   \n",
       "\n",
       "  Operating System Version  Weight        Price  \n",
       "0                      NaN  1.37kg  11912523.48  \n",
       "1                      NaN  1.34kg   7993374.48  \n",
       "2                      NaN  1.86kg   5112900.00  \n",
       "3                      NaN  1.83kg  22563005.40  \n",
       "4                      NaN  1.37kg  16037611.20  "
      ]
     },
     "execution_count": 34,
     "metadata": {},
     "output_type": "execute_result"
    }
   ],
   "source": [
    "train.head()"
   ]
  },
  {
   "cell_type": "code",
   "execution_count": 35,
   "metadata": {},
   "outputs": [
    {
     "name": "stdout",
     "output_type": "stream",
     "text": [
      "<class 'pandas.core.frame.DataFrame'>\n",
      "RangeIndex: 977 entries, 0 to 976\n",
      "Data columns (total 13 columns):\n",
      " #   Column                    Non-Null Count  Dtype  \n",
      "---  ------                    --------------  -----  \n",
      " 0   Manufacturer              977 non-null    object \n",
      " 1   Model Name                977 non-null    object \n",
      " 2   Category                  977 non-null    object \n",
      " 3   Screen Size               977 non-null    object \n",
      " 4   Screen                    977 non-null    object \n",
      " 5   CPU                       977 non-null    object \n",
      " 6   RAM                       977 non-null    object \n",
      " 7    Storage                  977 non-null    object \n",
      " 8   GPU                       977 non-null    object \n",
      " 9   Operating System          977 non-null    object \n",
      " 10  Operating System Version  841 non-null    object \n",
      " 11  Weight                    977 non-null    object \n",
      " 12  Price                     977 non-null    float64\n",
      "dtypes: float64(1), object(12)\n",
      "memory usage: 99.4+ KB\n"
     ]
    }
   ],
   "source": [
    "train.info()"
   ]
  },
  {
   "cell_type": "code",
   "execution_count": 36,
   "metadata": {},
   "outputs": [
    {
     "data": {
      "text/plain": [
       "Full HD 1920x1080                                397\n",
       "IPS Panel Full HD 1920x1080                      181\n",
       "1366x768                                         180\n",
       "Full HD / Touchscreen 1920x1080                   38\n",
       "IPS Panel Full HD / Touchscreen 1920x1080         35\n",
       "1600x900                                          19\n",
       "Touchscreen 1366x768                              15\n",
       "IPS Panel 4K Ultra HD / Touchscreen 3840x2160     11\n",
       "IPS Panel 4K Ultra HD 3840x2160                   10\n",
       "4K Ultra HD / Touchscreen 3840x2160                9\n",
       "Quad HD+ / Touchscreen 3200x1800                   8\n",
       "IPS Panel 1366x768                                 7\n",
       "IPS Panel Retina Display 2560x1600                 6\n",
       "Touchscreen 2256x1504                              6\n",
       "Touchscreen 2560x1440                              5\n",
       "4K Ultra HD 3840x2160                              5\n",
       "1440x900                                           4\n",
       "IPS Panel Retina Display 2880x1800                 4\n",
       "IPS Panel 2560x1440                                3\n",
       "IPS Panel Quad HD+ / Touchscreen 3200x1800         3\n",
       "IPS Panel Quad HD+ 2560x1440                       3\n",
       "Touchscreen 2400x1600                              3\n",
       "IPS Panel Touchscreen 1366x768                     3\n",
       "1920x1080                                          3\n",
       "IPS Panel Retina Display 2304x1440                 3\n",
       "2560x1440                                          2\n",
       "IPS Panel Quad HD+ 3200x1800                       2\n",
       "IPS Panel Full HD 2160x1440                        2\n",
       "IPS Panel Touchscreen / 4K Ultra HD 3840x2160      1\n",
       "IPS Panel Full HD 1920x1200                        1\n",
       "Touchscreen / Full HD 1920x1080                    1\n",
       "IPS Panel Touchscreen 2560x1440                    1\n",
       "IPS Panel Retina Display 2736x1824                 1\n",
       "IPS Panel Touchscreen 1920x1200                    1\n",
       "IPS Panel Full HD 2560x1440                        1\n",
       "IPS Panel Full HD 1366x768                         1\n",
       "Touchscreen / Quad HD+ 3200x1800                   1\n",
       "Quad HD+ 3200x1800                                 1\n",
       "Name: Screen, dtype: int64"
      ]
     },
     "execution_count": 36,
     "metadata": {},
     "output_type": "execute_result"
    }
   ],
   "source": [
    "train[\"Screen\"].value_counts() #Esto es una putada, podemos quedarnos con la parte de los píxeles, hacer la multipliación y asignar valores relativos"
   ]
  },
  {
   "cell_type": "code",
   "execution_count": 37,
   "metadata": {},
   "outputs": [
    {
     "data": {
      "text/plain": [
       "Full HD 1920x1080                                397\n",
       "IPS Panel Full HD 1920x1080                      181\n",
       "1366x768                                         180\n",
       "Full HD / Touchscreen 1920x1080                   38\n",
       "IPS Panel Full HD / Touchscreen 1920x1080         35\n",
       "1600x900                                          19\n",
       "Touchscreen 1366x768                              15\n",
       "IPS Panel 4K Ultra HD / Touchscreen 3840x2160     11\n",
       "IPS Panel 4K Ultra HD 3840x2160                   10\n",
       "4K Ultra HD / Touchscreen 3840x2160                9\n",
       "Quad HD+ / Touchscreen 3200x1800                   8\n",
       "IPS Panel 1366x768                                 7\n",
       "IPS Panel Retina Display 2560x1600                 6\n",
       "Touchscreen 2256x1504                              6\n",
       "Touchscreen 2560x1440                              5\n",
       "4K Ultra HD 3840x2160                              5\n",
       "1440x900                                           4\n",
       "IPS Panel Retina Display 2880x1800                 4\n",
       "IPS Panel 2560x1440                                3\n",
       "IPS Panel Quad HD+ / Touchscreen 3200x1800         3\n",
       "IPS Panel Quad HD+ 2560x1440                       3\n",
       "Touchscreen 2400x1600                              3\n",
       "IPS Panel Touchscreen 1366x768                     3\n",
       "1920x1080                                          3\n",
       "IPS Panel Retina Display 2304x1440                 3\n",
       "2560x1440                                          2\n",
       "IPS Panel Quad HD+ 3200x1800                       2\n",
       "IPS Panel Full HD 2160x1440                        2\n",
       "IPS Panel Touchscreen / 4K Ultra HD 3840x2160      1\n",
       "IPS Panel Full HD 1920x1200                        1\n",
       "Touchscreen / Full HD 1920x1080                    1\n",
       "IPS Panel Touchscreen 2560x1440                    1\n",
       "IPS Panel Retina Display 2736x1824                 1\n",
       "IPS Panel Touchscreen 1920x1200                    1\n",
       "IPS Panel Full HD 2560x1440                        1\n",
       "IPS Panel Full HD 1366x768                         1\n",
       "Touchscreen / Quad HD+ 3200x1800                   1\n",
       "Quad HD+ 3200x1800                                 1\n",
       "Name: Screen, dtype: int64"
      ]
     },
     "execution_count": 37,
     "metadata": {},
     "output_type": "execute_result"
    }
   ],
   "source": [
    "train[\"Screen\"].value_counts()"
   ]
  },
  {
   "cell_type": "code",
   "execution_count": 38,
   "metadata": {},
   "outputs": [
    {
     "data": {
      "text/plain": [
       "38"
      ]
     },
     "execution_count": 38,
     "metadata": {},
     "output_type": "execute_result"
    }
   ],
   "source": [
    "len(train[\"Screen\"].unique())"
   ]
  },
  {
   "cell_type": "code",
   "execution_count": 39,
   "metadata": {},
   "outputs": [
    {
     "data": {
      "text/plain": [
       "'\\nel tema es que no son homogéneos, vale lo mismo 1TB de SSD que de HDD, pero un poco por salivómetro vamos a añadir un multiplicador \\nhttps://www.diffen.com/difference/HDD_vs_SSD basado en esta página, a la parte de HDD lo vamos a multiplicar por 0.04 y a la parte de SSD por 0.5\\n\\n'"
      ]
     },
     "execution_count": 39,
     "metadata": {},
     "output_type": "execute_result"
    }
   ],
   "source": [
    "train[\" Storage\"].value_counts() \n",
    "'''\n",
    "el tema es que no son homogéneos, vale lo mismo 1TB de SSD que de HDD, pero un poco por salivómetro vamos a añadir un multiplicador \n",
    "https://www.diffen.com/difference/HDD_vs_SSD basado en esta página, a la parte de HDD lo vamos a multiplicar por 0.04 y a la parte de SSD por 0.5\n",
    "\n",
    "'''"
   ]
  },
  {
   "cell_type": "code",
   "execution_count": 40,
   "metadata": {},
   "outputs": [
    {
     "data": {
      "text/plain": [
       "256GB SSD                        318\n",
       "1TB HDD                          171\n",
       "512GB SSD                         91\n",
       "500GB HDD                         79\n",
       "128GB SSD +  1TB HDD              71\n",
       "128GB SSD                         62\n",
       "256GB SSD +  1TB HDD              52\n",
       "32GB Flash Storage                29\n",
       "2TB HDD                           14\n",
       "512GB SSD +  1TB HDD              13\n",
       "1TB SSD                           11\n",
       "256GB SSD +  2TB HDD              10\n",
       "64GB Flash Storage                 9\n",
       "16GB Flash Storage                 6\n",
       "256GB Flash Storage                5\n",
       "32GB SSD                           5\n",
       "128GB Flash Storage                4\n",
       "1GB SSD                            4\n",
       "256GB SSD +  256GB SSD             2\n",
       "16GB SSD                           2\n",
       "1TB SSD +  1TB HDD                 2\n",
       "512GB SSD +  2TB HDD               2\n",
       "128GB SSD +  2TB HDD               2\n",
       "512GB SSD +  512GB SSD             1\n",
       "512GB SSD +  256GB SSD             1\n",
       "64GB SSD                           1\n",
       "64GB Flash Storage +  1TB HDD      1\n",
       "256GB SSD +  500GB HDD             1\n",
       "1TB HDD +  1TB HDD                 1\n",
       "32GB HDD                           1\n",
       "1TB Hybrid                         1\n",
       "512GB Flash Storage                1\n",
       "128GB HDD                          1\n",
       "240GB SSD                          1\n",
       "8GB SSD                            1\n",
       "508GB Hybrid                       1\n",
       "Name:  Storage, dtype: int64"
      ]
     },
     "execution_count": 40,
     "metadata": {},
     "output_type": "execute_result"
    }
   ],
   "source": [
    "train[\" Storage\"].value_counts()"
   ]
  },
  {
   "cell_type": "code",
   "execution_count": 41,
   "metadata": {},
   "outputs": [
    {
     "data": {
      "text/plain": [
       "8GB     483\n",
       "4GB     271\n",
       "16GB    149\n",
       "6GB      24\n",
       "12GB     21\n",
       "32GB     16\n",
       "2GB      10\n",
       "24GB      3\n",
       "Name: RAM, dtype: int64"
      ]
     },
     "execution_count": 41,
     "metadata": {},
     "output_type": "execute_result"
    }
   ],
   "source": [
    "train[\"RAM\"].value_counts()"
   ]
  },
  {
   "cell_type": "code",
   "execution_count": 42,
   "metadata": {},
   "outputs": [
    {
     "data": {
      "text/plain": [
       "Intel Core i5 7200U 2.5GHz     151\n",
       "Intel Core i7 7700HQ 2.8GHz    123\n",
       "Intel Core i7 7500U 2.7GHz     103\n",
       "Intel Core i7 8550U 1.8GHz      71\n",
       "Intel Core i5 8250U 1.6GHz      71\n",
       "                              ... \n",
       "Intel Core i7 2.9GHz             1\n",
       "AMD E-Series 7110 1.8GHz         1\n",
       "Intel Core i5 2.9GHz             1\n",
       "Intel Core M m3 1.2GHz           1\n",
       "Intel Core i5 7200U 2.70GHz      1\n",
       "Name: CPU, Length: 106, dtype: int64"
      ]
     },
     "execution_count": 42,
     "metadata": {},
     "output_type": "execute_result"
    }
   ],
   "source": [
    "train[\"CPU\"].value_counts()"
   ]
  },
  {
   "cell_type": "code",
   "execution_count": 43,
   "metadata": {},
   "outputs": [
    {
     "data": {
      "text/plain": [
       "Notebook              549\n",
       "Ultrabook             152\n",
       "Gaming                150\n",
       "2 in 1 Convertible     85\n",
       "Workstation            24\n",
       "Netbook                17\n",
       "Name: Category, dtype: int64"
      ]
     },
     "execution_count": 43,
     "metadata": {},
     "output_type": "execute_result"
    }
   ],
   "source": [
    "train.Category.value_counts()"
   ]
  },
  {
   "cell_type": "code",
   "execution_count": 44,
   "metadata": {},
   "outputs": [
    {
     "data": {
      "text/html": [
       "<div>\n",
       "<style scoped>\n",
       "    .dataframe tbody tr th:only-of-type {\n",
       "        vertical-align: middle;\n",
       "    }\n",
       "\n",
       "    .dataframe tbody tr th {\n",
       "        vertical-align: top;\n",
       "    }\n",
       "\n",
       "    .dataframe thead th {\n",
       "        text-align: right;\n",
       "    }\n",
       "</style>\n",
       "<table border=\"1\" class=\"dataframe\">\n",
       "  <thead>\n",
       "    <tr style=\"text-align: right;\">\n",
       "      <th></th>\n",
       "      <th>Manufacturer</th>\n",
       "      <th>Model Name</th>\n",
       "      <th>Category</th>\n",
       "      <th>Screen Size</th>\n",
       "      <th>Screen</th>\n",
       "      <th>CPU</th>\n",
       "      <th>RAM</th>\n",
       "      <th>Storage</th>\n",
       "      <th>GPU</th>\n",
       "      <th>Operating System</th>\n",
       "      <th>Operating System Version</th>\n",
       "      <th>Weight</th>\n",
       "      <th>Price</th>\n",
       "    </tr>\n",
       "  </thead>\n",
       "  <tbody>\n",
       "    <tr>\n",
       "      <th>0</th>\n",
       "      <td>Apple</td>\n",
       "      <td>MacBook Pro</td>\n",
       "      <td>Ultrabook</td>\n",
       "      <td>13.3\"</td>\n",
       "      <td>IPS Panel Retina Display 2560x1600</td>\n",
       "      <td>Intel Core i5 2.3GHz</td>\n",
       "      <td>8GB</td>\n",
       "      <td>128GB SSD</td>\n",
       "      <td>Intel Iris Plus Graphics 640</td>\n",
       "      <td>macOS</td>\n",
       "      <td>NaN</td>\n",
       "      <td>1.37kg</td>\n",
       "      <td>11912523.48</td>\n",
       "    </tr>\n",
       "    <tr>\n",
       "      <th>1</th>\n",
       "      <td>Apple</td>\n",
       "      <td>Macbook Air</td>\n",
       "      <td>Ultrabook</td>\n",
       "      <td>13.3\"</td>\n",
       "      <td>1440x900</td>\n",
       "      <td>Intel Core i5 1.8GHz</td>\n",
       "      <td>8GB</td>\n",
       "      <td>128GB Flash Storage</td>\n",
       "      <td>Intel HD Graphics 6000</td>\n",
       "      <td>macOS</td>\n",
       "      <td>NaN</td>\n",
       "      <td>1.34kg</td>\n",
       "      <td>7993374.48</td>\n",
       "    </tr>\n",
       "    <tr>\n",
       "      <th>2</th>\n",
       "      <td>HP</td>\n",
       "      <td>250 G6</td>\n",
       "      <td>Notebook</td>\n",
       "      <td>15.6\"</td>\n",
       "      <td>Full HD 1920x1080</td>\n",
       "      <td>Intel Core i5 7200U 2.5GHz</td>\n",
       "      <td>8GB</td>\n",
       "      <td>256GB SSD</td>\n",
       "      <td>Intel HD Graphics 620</td>\n",
       "      <td>No OS</td>\n",
       "      <td>NaN</td>\n",
       "      <td>1.86kg</td>\n",
       "      <td>5112900.00</td>\n",
       "    </tr>\n",
       "    <tr>\n",
       "      <th>3</th>\n",
       "      <td>Apple</td>\n",
       "      <td>MacBook Pro</td>\n",
       "      <td>Ultrabook</td>\n",
       "      <td>15.4\"</td>\n",
       "      <td>IPS Panel Retina Display 2880x1800</td>\n",
       "      <td>Intel Core i7 2.7GHz</td>\n",
       "      <td>16GB</td>\n",
       "      <td>512GB SSD</td>\n",
       "      <td>AMD Radeon Pro 455</td>\n",
       "      <td>macOS</td>\n",
       "      <td>NaN</td>\n",
       "      <td>1.83kg</td>\n",
       "      <td>22563005.40</td>\n",
       "    </tr>\n",
       "    <tr>\n",
       "      <th>4</th>\n",
       "      <td>Apple</td>\n",
       "      <td>MacBook Pro</td>\n",
       "      <td>Ultrabook</td>\n",
       "      <td>13.3\"</td>\n",
       "      <td>IPS Panel Retina Display 2560x1600</td>\n",
       "      <td>Intel Core i5 3.1GHz</td>\n",
       "      <td>8GB</td>\n",
       "      <td>256GB SSD</td>\n",
       "      <td>Intel Iris Plus Graphics 650</td>\n",
       "      <td>macOS</td>\n",
       "      <td>NaN</td>\n",
       "      <td>1.37kg</td>\n",
       "      <td>16037611.20</td>\n",
       "    </tr>\n",
       "  </tbody>\n",
       "</table>\n",
       "</div>"
      ],
      "text/plain": [
       "  Manufacturer   Model Name   Category Screen Size  \\\n",
       "0        Apple  MacBook Pro  Ultrabook       13.3\"   \n",
       "1        Apple  Macbook Air  Ultrabook       13.3\"   \n",
       "2           HP       250 G6   Notebook       15.6\"   \n",
       "3        Apple  MacBook Pro  Ultrabook       15.4\"   \n",
       "4        Apple  MacBook Pro  Ultrabook       13.3\"   \n",
       "\n",
       "                               Screen                         CPU   RAM  \\\n",
       "0  IPS Panel Retina Display 2560x1600        Intel Core i5 2.3GHz   8GB   \n",
       "1                            1440x900        Intel Core i5 1.8GHz   8GB   \n",
       "2                   Full HD 1920x1080  Intel Core i5 7200U 2.5GHz   8GB   \n",
       "3  IPS Panel Retina Display 2880x1800        Intel Core i7 2.7GHz  16GB   \n",
       "4  IPS Panel Retina Display 2560x1600        Intel Core i5 3.1GHz   8GB   \n",
       "\n",
       "               Storage                           GPU Operating System  \\\n",
       "0            128GB SSD  Intel Iris Plus Graphics 640            macOS   \n",
       "1  128GB Flash Storage        Intel HD Graphics 6000            macOS   \n",
       "2            256GB SSD         Intel HD Graphics 620            No OS   \n",
       "3            512GB SSD            AMD Radeon Pro 455            macOS   \n",
       "4            256GB SSD  Intel Iris Plus Graphics 650            macOS   \n",
       "\n",
       "  Operating System Version  Weight        Price  \n",
       "0                      NaN  1.37kg  11912523.48  \n",
       "1                      NaN  1.34kg   7993374.48  \n",
       "2                      NaN  1.86kg   5112900.00  \n",
       "3                      NaN  1.83kg  22563005.40  \n",
       "4                      NaN  1.37kg  16037611.20  "
      ]
     },
     "execution_count": 44,
     "metadata": {},
     "output_type": "execute_result"
    }
   ],
   "source": [
    "train.head()"
   ]
  },
  {
   "cell_type": "code",
   "execution_count": 45,
   "metadata": {},
   "outputs": [],
   "source": [
    "#train[\"GPU\"].value_counts()"
   ]
  },
  {
   "cell_type": "code",
   "execution_count": 46,
   "metadata": {},
   "outputs": [],
   "source": [
    "#train[\"GPU\"].unique()"
   ]
  },
  {
   "cell_type": "code",
   "execution_count": 47,
   "metadata": {},
   "outputs": [],
   "source": [
    "from sklearn.preprocessing import LabelEncoder\n",
    "encoderGPU = LabelEncoder()\n",
    "train[\"GPU\"] = encoderGPU.fit_transform(train[\"GPU\"]) #lo bueno de hacer esto es que estos datos sí son ordinales\n",
    "test[\"GPU\"] = encoderGPU.fit_transform(test[\"GPU\"]) "
   ]
  },
  {
   "cell_type": "code",
   "execution_count": 48,
   "metadata": {},
   "outputs": [],
   "source": [
    "encoderCPU = LabelEncoder()\n",
    "train[\"CPU\"] = encoderCPU.fit_transform(train[\"CPU\"])  #lo mismo\n",
    "test[\"CPU\"] = encoderCPU.fit_transform(test[\"CPU\"])"
   ]
  },
  {
   "cell_type": "code",
   "execution_count": 49,
   "metadata": {},
   "outputs": [],
   "source": [
    "encoderCAT = LabelEncoder()\n",
    "train[\"Category\"] = encoderCAT.fit_transform(train[\"Category\"])\n",
    "test[\"Category\"] = encoderCAT.fit_transform(test[\"Category\"])"
   ]
  },
  {
   "cell_type": "code",
   "execution_count": 50,
   "metadata": {},
   "outputs": [],
   "source": [
    "train = train.drop([\"Model Name\", \"Weight\", \"Operating System Version\", \"Manufacturer\"], axis=1)\n",
    "test = test.drop([\"Model Name\", \"Weight\", \"Operating System Version\", \"Manufacturer\"], axis=1)"
   ]
  },
  {
   "cell_type": "code",
   "execution_count": 51,
   "metadata": {},
   "outputs": [],
   "source": [
    "train[\"Operating System\"] = train[\"Operating System\"].apply(limpiar_os)\n",
    "test[\"Operating System\"] = test[\"Operating System\"].apply(limpiar_os)\n",
    "\n",
    "\n",
    "train[\" Storage\"] = train[\" Storage\"].apply(limpiar_st)\n",
    "test[\" Storage\"] = test[\" Storage\"].apply(limpiar_st)\n",
    "\n",
    "train[\"RAM\"] = train[\"RAM\"].str.extract('(\\d+)').astype(int)\n",
    "test[\"RAM\"] = test[\"RAM\"].str.extract('(\\d+)').astype(int)\n",
    "\n",
    "train[\"Screen Size\"] = train[\"Screen Size\"].str.extract('(\\d+)').astype(int)\n",
    "test[\"Screen Size\"] = test[\"Screen Size\"].str.extract('(\\d+)').astype(int)\n",
    "\n",
    "train[\"Screen\"]= limpiar_sc(train[\"Screen\"])\n",
    "test[\"Screen\"] = limpiar_sc(test[\"Screen\"])"
   ]
  },
  {
   "cell_type": "code",
   "execution_count": 56,
   "metadata": {},
   "outputs": [],
   "source": [
    "X1 = train.drop(\"Price\", axis=1)\n",
    "y1 = train[\"Price\"]"
   ]
  },
  {
   "cell_type": "code",
   "execution_count": 70,
   "metadata": {},
   "outputs": [
    {
     "data": {
      "text/html": [
       "<div>\n",
       "<style scoped>\n",
       "    .dataframe tbody tr th:only-of-type {\n",
       "        vertical-align: middle;\n",
       "    }\n",
       "\n",
       "    .dataframe tbody tr th {\n",
       "        vertical-align: top;\n",
       "    }\n",
       "\n",
       "    .dataframe thead th {\n",
       "        text-align: right;\n",
       "    }\n",
       "</style>\n",
       "<table border=\"1\" class=\"dataframe\">\n",
       "  <thead>\n",
       "    <tr style=\"text-align: right;\">\n",
       "      <th></th>\n",
       "      <th>Category</th>\n",
       "      <th>Screen Size</th>\n",
       "      <th>Screen</th>\n",
       "      <th>CPU</th>\n",
       "      <th>RAM</th>\n",
       "      <th>Storage</th>\n",
       "      <th>GPU</th>\n",
       "      <th>Operating System</th>\n",
       "      <th>Price</th>\n",
       "    </tr>\n",
       "  </thead>\n",
       "  <tbody>\n",
       "    <tr>\n",
       "      <th>Category</th>\n",
       "      <td>1.000000</td>\n",
       "      <td>-0.049199</td>\n",
       "      <td>-0.040659</td>\n",
       "      <td>-0.097896</td>\n",
       "      <td>-0.221729</td>\n",
       "      <td>-0.077601</td>\n",
       "      <td>-0.156478</td>\n",
       "      <td>-0.062262</td>\n",
       "      <td>-0.119578</td>\n",
       "    </tr>\n",
       "    <tr>\n",
       "      <th>Screen Size</th>\n",
       "      <td>-0.049199</td>\n",
       "      <td>1.000000</td>\n",
       "      <td>-0.049301</td>\n",
       "      <td>0.147640</td>\n",
       "      <td>0.254427</td>\n",
       "      <td>0.007616</td>\n",
       "      <td>0.200811</td>\n",
       "      <td>0.066535</td>\n",
       "      <td>0.112896</td>\n",
       "    </tr>\n",
       "    <tr>\n",
       "      <th>Screen</th>\n",
       "      <td>-0.040659</td>\n",
       "      <td>-0.049301</td>\n",
       "      <td>1.000000</td>\n",
       "      <td>0.265843</td>\n",
       "      <td>0.416342</td>\n",
       "      <td>0.314302</td>\n",
       "      <td>0.206753</td>\n",
       "      <td>0.085203</td>\n",
       "      <td>0.533803</td>\n",
       "    </tr>\n",
       "    <tr>\n",
       "      <th>CPU</th>\n",
       "      <td>-0.097896</td>\n",
       "      <td>0.147640</td>\n",
       "      <td>0.265843</td>\n",
       "      <td>1.000000</td>\n",
       "      <td>0.477799</td>\n",
       "      <td>0.427352</td>\n",
       "      <td>0.477749</td>\n",
       "      <td>0.169347</td>\n",
       "      <td>0.533643</td>\n",
       "    </tr>\n",
       "    <tr>\n",
       "      <th>RAM</th>\n",
       "      <td>-0.221729</td>\n",
       "      <td>0.254427</td>\n",
       "      <td>0.416342</td>\n",
       "      <td>0.477799</td>\n",
       "      <td>1.000000</td>\n",
       "      <td>0.542561</td>\n",
       "      <td>0.375900</td>\n",
       "      <td>0.155535</td>\n",
       "      <td>0.764005</td>\n",
       "    </tr>\n",
       "    <tr>\n",
       "      <th>Storage</th>\n",
       "      <td>-0.077601</td>\n",
       "      <td>0.007616</td>\n",
       "      <td>0.314302</td>\n",
       "      <td>0.427352</td>\n",
       "      <td>0.542561</td>\n",
       "      <td>1.000000</td>\n",
       "      <td>0.219415</td>\n",
       "      <td>0.164775</td>\n",
       "      <td>0.565751</td>\n",
       "    </tr>\n",
       "    <tr>\n",
       "      <th>GPU</th>\n",
       "      <td>-0.156478</td>\n",
       "      <td>0.200811</td>\n",
       "      <td>0.206753</td>\n",
       "      <td>0.477749</td>\n",
       "      <td>0.375900</td>\n",
       "      <td>0.219415</td>\n",
       "      <td>1.000000</td>\n",
       "      <td>0.099718</td>\n",
       "      <td>0.436197</td>\n",
       "    </tr>\n",
       "    <tr>\n",
       "      <th>Operating System</th>\n",
       "      <td>-0.062262</td>\n",
       "      <td>0.066535</td>\n",
       "      <td>0.085203</td>\n",
       "      <td>0.169347</td>\n",
       "      <td>0.155535</td>\n",
       "      <td>0.164775</td>\n",
       "      <td>0.099718</td>\n",
       "      <td>1.000000</td>\n",
       "      <td>0.225097</td>\n",
       "    </tr>\n",
       "    <tr>\n",
       "      <th>Price</th>\n",
       "      <td>-0.119578</td>\n",
       "      <td>0.112896</td>\n",
       "      <td>0.533803</td>\n",
       "      <td>0.533643</td>\n",
       "      <td>0.764005</td>\n",
       "      <td>0.565751</td>\n",
       "      <td>0.436197</td>\n",
       "      <td>0.225097</td>\n",
       "      <td>1.000000</td>\n",
       "    </tr>\n",
       "  </tbody>\n",
       "</table>\n",
       "</div>"
      ],
      "text/plain": [
       "                  Category  Screen Size    Screen       CPU       RAM  \\\n",
       "Category          1.000000    -0.049199 -0.040659 -0.097896 -0.221729   \n",
       "Screen Size      -0.049199     1.000000 -0.049301  0.147640  0.254427   \n",
       "Screen           -0.040659    -0.049301  1.000000  0.265843  0.416342   \n",
       "CPU              -0.097896     0.147640  0.265843  1.000000  0.477799   \n",
       "RAM              -0.221729     0.254427  0.416342  0.477799  1.000000   \n",
       " Storage         -0.077601     0.007616  0.314302  0.427352  0.542561   \n",
       "GPU              -0.156478     0.200811  0.206753  0.477749  0.375900   \n",
       "Operating System -0.062262     0.066535  0.085203  0.169347  0.155535   \n",
       "Price            -0.119578     0.112896  0.533803  0.533643  0.764005   \n",
       "\n",
       "                   Storage       GPU  Operating System     Price  \n",
       "Category         -0.077601 -0.156478         -0.062262 -0.119578  \n",
       "Screen Size       0.007616  0.200811          0.066535  0.112896  \n",
       "Screen            0.314302  0.206753          0.085203  0.533803  \n",
       "CPU               0.427352  0.477749          0.169347  0.533643  \n",
       "RAM               0.542561  0.375900          0.155535  0.764005  \n",
       " Storage          1.000000  0.219415          0.164775  0.565751  \n",
       "GPU               0.219415  1.000000          0.099718  0.436197  \n",
       "Operating System  0.164775  0.099718          1.000000  0.225097  \n",
       "Price             0.565751  0.436197          0.225097  1.000000  "
      ]
     },
     "execution_count": 70,
     "metadata": {},
     "output_type": "execute_result"
    }
   ],
   "source": [
    "corr = train.corr()\n",
    "corr"
   ]
  },
  {
   "cell_type": "code",
   "execution_count": 57,
   "metadata": {},
   "outputs": [
    {
     "data": {
      "text/plain": [
       "((781, 8), (196, 8), (781,), (196,))"
      ]
     },
     "execution_count": 57,
     "metadata": {},
     "output_type": "execute_result"
    }
   ],
   "source": [
    "from sklearn.model_selection import train_test_split as tts  \n",
    "\n",
    "\n",
    "X_train, X_test, y_train, y_test = tts(X1, y1, \n",
    "                                       train_size=0.8, \n",
    "                                       test_size=0.2,\n",
    "                                       random_state=42\n",
    "                                      )\n",
    "\n",
    "\n",
    "X_train.shape, X_test.shape, y_train.shape, y_test.shape"
   ]
  },
  {
   "cell_type": "code",
   "execution_count": 78,
   "metadata": {},
   "outputs": [
    {
     "data": {
      "text/html": [
       "<div>\n",
       "<style scoped>\n",
       "    .dataframe tbody tr th:only-of-type {\n",
       "        vertical-align: middle;\n",
       "    }\n",
       "\n",
       "    .dataframe tbody tr th {\n",
       "        vertical-align: top;\n",
       "    }\n",
       "\n",
       "    .dataframe thead th {\n",
       "        text-align: right;\n",
       "    }\n",
       "</style>\n",
       "<table border=\"1\" class=\"dataframe\">\n",
       "  <thead>\n",
       "    <tr style=\"text-align: right;\">\n",
       "      <th></th>\n",
       "      <th>Category</th>\n",
       "      <th>Screen Size</th>\n",
       "      <th>Screen</th>\n",
       "      <th>CPU</th>\n",
       "      <th>RAM</th>\n",
       "      <th>Storage</th>\n",
       "      <th>GPU</th>\n",
       "      <th>Operating System</th>\n",
       "    </tr>\n",
       "  </thead>\n",
       "  <tbody>\n",
       "    <tr>\n",
       "      <th>0</th>\n",
       "      <td>3</td>\n",
       "      <td>15</td>\n",
       "      <td>104448</td>\n",
       "      <td>40</td>\n",
       "      <td>6</td>\n",
       "      <td>40.0</td>\n",
       "      <td>25</td>\n",
       "      <td>1</td>\n",
       "    </tr>\n",
       "    <tr>\n",
       "      <th>1</th>\n",
       "      <td>1</td>\n",
       "      <td>17</td>\n",
       "      <td>207360</td>\n",
       "      <td>42</td>\n",
       "      <td>16</td>\n",
       "      <td>168.0</td>\n",
       "      <td>38</td>\n",
       "      <td>1</td>\n",
       "    </tr>\n",
       "    <tr>\n",
       "      <th>2</th>\n",
       "      <td>0</td>\n",
       "      <td>15</td>\n",
       "      <td>207360</td>\n",
       "      <td>40</td>\n",
       "      <td>12</td>\n",
       "      <td>256.0</td>\n",
       "      <td>25</td>\n",
       "      <td>1</td>\n",
       "    </tr>\n",
       "    <tr>\n",
       "      <th>3</th>\n",
       "      <td>3</td>\n",
       "      <td>13</td>\n",
       "      <td>207360</td>\n",
       "      <td>26</td>\n",
       "      <td>4</td>\n",
       "      <td>64.0</td>\n",
       "      <td>21</td>\n",
       "      <td>1</td>\n",
       "    </tr>\n",
       "    <tr>\n",
       "      <th>4</th>\n",
       "      <td>3</td>\n",
       "      <td>15</td>\n",
       "      <td>207360</td>\n",
       "      <td>1</td>\n",
       "      <td>6</td>\n",
       "      <td>128.0</td>\n",
       "      <td>3</td>\n",
       "      <td>1</td>\n",
       "    </tr>\n",
       "  </tbody>\n",
       "</table>\n",
       "</div>"
      ],
      "text/plain": [
       "   Category  Screen Size  Screen  CPU  RAM   Storage  GPU  Operating System\n",
       "0         3           15  104448   40    6      40.0   25                 1\n",
       "1         1           17  207360   42   16     168.0   38                 1\n",
       "2         0           15  207360   40   12     256.0   25                 1\n",
       "3         3           13  207360   26    4      64.0   21                 1\n",
       "4         3           15  207360    1    6     128.0    3                 1"
      ]
     },
     "execution_count": 78,
     "metadata": {},
     "output_type": "execute_result"
    }
   ],
   "source": [
    "test.head()"
   ]
  },
  {
   "cell_type": "code",
   "execution_count": 58,
   "metadata": {},
   "outputs": [
    {
     "name": "stdout",
     "output_type": "stream",
     "text": [
      "Collecting h2o\n",
      "  Downloading h2o-3.40.0.4.tar.gz (177.6 MB)\n",
      "     -------------------------------------- 177.6/177.6 MB 4.3 MB/s eta 0:00:00\n",
      "  Preparing metadata (setup.py): started\n",
      "  Preparing metadata (setup.py): finished with status 'done'\n",
      "Requirement already satisfied: requests in c:\\users\\juan\\anaconda3\\lib\\site-packages (from h2o) (2.28.1)\n",
      "Requirement already satisfied: tabulate in c:\\users\\juan\\anaconda3\\lib\\site-packages (from h2o) (0.8.10)\n",
      "Requirement already satisfied: future in c:\\users\\juan\\anaconda3\\lib\\site-packages (from h2o) (0.18.2)\n",
      "Requirement already satisfied: certifi>=2017.4.17 in c:\\users\\juan\\anaconda3\\lib\\site-packages (from requests->h2o) (2022.9.14)\n",
      "Requirement already satisfied: urllib3<1.27,>=1.21.1 in c:\\users\\juan\\anaconda3\\lib\\site-packages (from requests->h2o) (1.26.11)\n",
      "Requirement already satisfied: charset-normalizer<3,>=2 in c:\\users\\juan\\anaconda3\\lib\\site-packages (from requests->h2o) (2.0.4)\n",
      "Requirement already satisfied: idna<4,>=2.5 in c:\\users\\juan\\anaconda3\\lib\\site-packages (from requests->h2o) (3.3)\n",
      "Building wheels for collected packages: h2o\n",
      "  Building wheel for h2o (setup.py): started\n",
      "  Building wheel for h2o (setup.py): finished with status 'done'\n",
      "  Created wheel for h2o: filename=h2o-3.40.0.4-py2.py3-none-any.whl size=177697885 sha256=cacc52c822a906764e833903fae1370bc40a5c24aa95c96bef69005b74303926\n",
      "  Stored in directory: c:\\users\\juan\\appdata\\local\\pip\\cache\\wheels\\36\\3d\\5c\\8a1e4bf505286f3ad1add1a41b1ed52764fa0dbce199122deb\n",
      "Successfully built h2o\n",
      "Installing collected packages: h2o\n",
      "Successfully installed h2o-3.40.0.4\n",
      "Note: you may need to restart the kernel to use updated packages.\n"
     ]
    }
   ],
   "source": [
    "%pip install h2o"
   ]
  },
  {
   "cell_type": "code",
   "execution_count": 85,
   "metadata": {},
   "outputs": [
    {
     "data": {
      "text/plain": [
       "<lazypredict.Supervised.LazyRegressor at 0x2112edf33a0>"
      ]
     },
     "execution_count": 85,
     "metadata": {},
     "output_type": "execute_result"
    }
   ],
   "source": [
    "from lazypredict.Supervised import LazyRegressor \n",
    "\n",
    "lazy=LazyRegressor()\n",
    "\n",
    "lazy"
   ]
  },
  {
   "cell_type": "code",
   "execution_count": 90,
   "metadata": {},
   "outputs": [
    {
     "name": "stdout",
     "output_type": "stream",
     "text": [
      "'tuple' object has no attribute '__name__'\n",
      "Invalid Regressor(s)\n"
     ]
    },
    {
     "name": "stderr",
     "output_type": "stream",
     "text": [
      "100%|██████████| 42/42 [00:07<00:00,  5.95it/s]\n"
     ]
    },
    {
     "data": {
      "text/plain": [
       "(                               Adjusted R-Squared  R-Squared         RMSE  \\\n",
       " Model                                                                       \n",
       " GradientBoostingRegressor                    0.81       0.82   2577219.75   \n",
       " ExtraTreesRegressor                          0.80       0.81   2619358.58   \n",
       " XGBRegressor                                 0.80       0.81   2628997.68   \n",
       " HistGradientBoostingRegressor                0.79       0.80   2672244.73   \n",
       " LGBMRegressor                                0.79       0.80   2676203.92   \n",
       " RandomForestRegressor                        0.78       0.79   2782242.84   \n",
       " DecisionTreeRegressor                        0.74       0.75   3029123.95   \n",
       " BaggingRegressor                             0.73       0.74   3086258.05   \n",
       " ExtraTreeRegressor                           0.72       0.73   3120410.45   \n",
       " KNeighborsRegressor                          0.72       0.73   3131445.95   \n",
       " HuberRegressor                               0.64       0.66   3527942.98   \n",
       " GammaRegressor                               0.64       0.66   3529369.54   \n",
       " ElasticNet                                   0.63       0.65   3580861.10   \n",
       " RidgeCV                                      0.62       0.63   3649128.16   \n",
       " Ridge                                        0.61       0.63   3660471.10   \n",
       " SGDRegressor                                 0.61       0.63   3661307.34   \n",
       " LassoCV                                      0.61       0.63   3661618.54   \n",
       " LassoLars                                    0.61       0.63   3661805.07   \n",
       " Lasso                                        0.61       0.63   3661805.60   \n",
       " LassoLarsIC                                  0.61       0.63   3661805.62   \n",
       " LassoLarsCV                                  0.61       0.63   3661805.62   \n",
       " LarsCV                                       0.61       0.63   3661805.62   \n",
       " Lars                                         0.61       0.63   3661805.62   \n",
       " LinearRegression                             0.61       0.63   3661805.62   \n",
       " TransformedTargetRegressor                   0.61       0.63   3661805.62   \n",
       " RANSACRegressor                              0.61       0.63   3665291.71   \n",
       " TweedieRegressor                             0.60       0.62   3714903.65   \n",
       " AdaBoostRegressor                            0.60       0.62   3719222.65   \n",
       " PoissonRegressor                             0.60       0.61   3736232.78   \n",
       " OrthogonalMatchingPursuitCV                  0.59       0.61   3775860.41   \n",
       " OrthogonalMatchingPursuit                    0.42       0.45   4469489.83   \n",
       " NuSVR                                       -0.05      -0.00   6022493.16   \n",
       " ElasticNetCV                                -0.05      -0.00   6026766.18   \n",
       " BayesianRidge                               -0.05      -0.01   6028972.16   \n",
       " DummyRegressor                              -0.05      -0.01   6028972.16   \n",
       " SVR                                         -0.08      -0.04   6120025.51   \n",
       " QuantileRegressor                           -0.08      -0.04   6120055.07   \n",
       " KernelRidge                                 -1.91      -1.79  10049019.84   \n",
       " PassiveAggressiveRegressor                  -2.32      -2.18  10729671.85   \n",
       " LinearSVR                                   -2.74      -2.58  11384265.42   \n",
       " MLPRegressor                                -2.74      -2.58  11384565.94   \n",
       " GaussianProcessRegressor                  -733.25    -703.13 159555077.74   \n",
       " \n",
       "                                Time Taken  \n",
       " Model                                      \n",
       " GradientBoostingRegressor            0.06  \n",
       " ExtraTreesRegressor                  0.16  \n",
       " XGBRegressor                         0.09  \n",
       " HistGradientBoostingRegressor        0.54  \n",
       " LGBMRegressor                        0.11  \n",
       " RandomForestRegressor                0.24  \n",
       " DecisionTreeRegressor                0.01  \n",
       " BaggingRegressor                     0.02  \n",
       " ExtraTreeRegressor                   0.01  \n",
       " KNeighborsRegressor                  0.01  \n",
       " HuberRegressor                       0.02  \n",
       " GammaRegressor                       0.01  \n",
       " ElasticNet                           0.01  \n",
       " RidgeCV                              0.01  \n",
       " Ridge                                0.01  \n",
       " SGDRegressor                         0.01  \n",
       " LassoCV                              0.05  \n",
       " LassoLars                            0.01  \n",
       " Lasso                                0.01  \n",
       " LassoLarsIC                          0.01  \n",
       " LassoLarsCV                          0.02  \n",
       " LarsCV                               0.03  \n",
       " Lars                                 0.01  \n",
       " LinearRegression                     0.01  \n",
       " TransformedTargetRegressor           0.01  \n",
       " RANSACRegressor                      0.04  \n",
       " TweedieRegressor                     0.01  \n",
       " AdaBoostRegressor                    0.04  \n",
       " PoissonRegressor                     0.01  \n",
       " OrthogonalMatchingPursuitCV          0.01  \n",
       " OrthogonalMatchingPursuit            0.01  \n",
       " NuSVR                                0.04  \n",
       " ElasticNetCV                         0.05  \n",
       " BayesianRidge                        0.01  \n",
       " DummyRegressor                       0.01  \n",
       " SVR                                  0.05  \n",
       " QuantileRegressor                    4.77  \n",
       " KernelRidge                          0.03  \n",
       " PassiveAggressiveRegressor           0.04  \n",
       " LinearSVR                            0.01  \n",
       " MLPRegressor                         0.43  \n",
       " GaussianProcessRegressor             0.05  ,\n",
       "                                Adjusted R-Squared  R-Squared         RMSE  \\\n",
       " Model                                                                       \n",
       " GradientBoostingRegressor                    0.81       0.82   2577219.75   \n",
       " ExtraTreesRegressor                          0.80       0.81   2619358.58   \n",
       " XGBRegressor                                 0.80       0.81   2628997.68   \n",
       " HistGradientBoostingRegressor                0.79       0.80   2672244.73   \n",
       " LGBMRegressor                                0.79       0.80   2676203.92   \n",
       " RandomForestRegressor                        0.78       0.79   2782242.84   \n",
       " DecisionTreeRegressor                        0.74       0.75   3029123.95   \n",
       " BaggingRegressor                             0.73       0.74   3086258.05   \n",
       " ExtraTreeRegressor                           0.72       0.73   3120410.45   \n",
       " KNeighborsRegressor                          0.72       0.73   3131445.95   \n",
       " HuberRegressor                               0.64       0.66   3527942.98   \n",
       " GammaRegressor                               0.64       0.66   3529369.54   \n",
       " ElasticNet                                   0.63       0.65   3580861.10   \n",
       " RidgeCV                                      0.62       0.63   3649128.16   \n",
       " Ridge                                        0.61       0.63   3660471.10   \n",
       " SGDRegressor                                 0.61       0.63   3661307.34   \n",
       " LassoCV                                      0.61       0.63   3661618.54   \n",
       " LassoLars                                    0.61       0.63   3661805.07   \n",
       " Lasso                                        0.61       0.63   3661805.60   \n",
       " LassoLarsIC                                  0.61       0.63   3661805.62   \n",
       " LassoLarsCV                                  0.61       0.63   3661805.62   \n",
       " LarsCV                                       0.61       0.63   3661805.62   \n",
       " Lars                                         0.61       0.63   3661805.62   \n",
       " LinearRegression                             0.61       0.63   3661805.62   \n",
       " TransformedTargetRegressor                   0.61       0.63   3661805.62   \n",
       " RANSACRegressor                              0.61       0.63   3665291.71   \n",
       " TweedieRegressor                             0.60       0.62   3714903.65   \n",
       " AdaBoostRegressor                            0.60       0.62   3719222.65   \n",
       " PoissonRegressor                             0.60       0.61   3736232.78   \n",
       " OrthogonalMatchingPursuitCV                  0.59       0.61   3775860.41   \n",
       " OrthogonalMatchingPursuit                    0.42       0.45   4469489.83   \n",
       " NuSVR                                       -0.05      -0.00   6022493.16   \n",
       " ElasticNetCV                                -0.05      -0.00   6026766.18   \n",
       " BayesianRidge                               -0.05      -0.01   6028972.16   \n",
       " DummyRegressor                              -0.05      -0.01   6028972.16   \n",
       " SVR                                         -0.08      -0.04   6120025.51   \n",
       " QuantileRegressor                           -0.08      -0.04   6120055.07   \n",
       " KernelRidge                                 -1.91      -1.79  10049019.84   \n",
       " PassiveAggressiveRegressor                  -2.32      -2.18  10729671.85   \n",
       " LinearSVR                                   -2.74      -2.58  11384265.42   \n",
       " MLPRegressor                                -2.74      -2.58  11384565.94   \n",
       " GaussianProcessRegressor                  -733.25    -703.13 159555077.74   \n",
       " \n",
       "                                Time Taken  \n",
       " Model                                      \n",
       " GradientBoostingRegressor            0.06  \n",
       " ExtraTreesRegressor                  0.16  \n",
       " XGBRegressor                         0.09  \n",
       " HistGradientBoostingRegressor        0.54  \n",
       " LGBMRegressor                        0.11  \n",
       " RandomForestRegressor                0.24  \n",
       " DecisionTreeRegressor                0.01  \n",
       " BaggingRegressor                     0.02  \n",
       " ExtraTreeRegressor                   0.01  \n",
       " KNeighborsRegressor                  0.01  \n",
       " HuberRegressor                       0.02  \n",
       " GammaRegressor                       0.01  \n",
       " ElasticNet                           0.01  \n",
       " RidgeCV                              0.01  \n",
       " Ridge                                0.01  \n",
       " SGDRegressor                         0.01  \n",
       " LassoCV                              0.05  \n",
       " LassoLars                            0.01  \n",
       " Lasso                                0.01  \n",
       " LassoLarsIC                          0.01  \n",
       " LassoLarsCV                          0.02  \n",
       " LarsCV                               0.03  \n",
       " Lars                                 0.01  \n",
       " LinearRegression                     0.01  \n",
       " TransformedTargetRegressor           0.01  \n",
       " RANSACRegressor                      0.04  \n",
       " TweedieRegressor                     0.01  \n",
       " AdaBoostRegressor                    0.04  \n",
       " PoissonRegressor                     0.01  \n",
       " OrthogonalMatchingPursuitCV          0.01  \n",
       " OrthogonalMatchingPursuit            0.01  \n",
       " NuSVR                                0.04  \n",
       " ElasticNetCV                         0.05  \n",
       " BayesianRidge                        0.01  \n",
       " DummyRegressor                       0.01  \n",
       " SVR                                  0.05  \n",
       " QuantileRegressor                    4.77  \n",
       " KernelRidge                          0.03  \n",
       " PassiveAggressiveRegressor           0.04  \n",
       " LinearSVR                            0.01  \n",
       " MLPRegressor                         0.43  \n",
       " GaussianProcessRegressor             0.05  )"
      ]
     },
     "execution_count": 90,
     "metadata": {},
     "output_type": "execute_result"
    }
   ],
   "source": [
    "lazy.fit(X_train, X_test, y_train, y_test)"
   ]
  },
  {
   "cell_type": "code",
   "execution_count": 98,
   "metadata": {},
   "outputs": [],
   "source": [
    "from sklearn.experimental import enable_hist_gradient_boosting\n",
    "from sklearn.ensemble import HistGradientBoostingRegressor\n",
    "GBR = HistGradientBoostingRegressor()"
   ]
  },
  {
   "cell_type": "code",
   "execution_count": 99,
   "metadata": {},
   "outputs": [
    {
     "data": {
      "text/plain": [
       "HistGradientBoostingRegressor()"
      ]
     },
     "execution_count": 99,
     "metadata": {},
     "output_type": "execute_result"
    }
   ],
   "source": [
    "GBR.fit(X_train, y_train)"
   ]
  },
  {
   "cell_type": "code",
   "execution_count": 111,
   "metadata": {},
   "outputs": [],
   "source": [
    "y_pred = GBR.predict(X_test)"
   ]
  },
  {
   "cell_type": "code",
   "execution_count": 118,
   "metadata": {},
   "outputs": [
    {
     "data": {
      "text/plain": [
       "2671546.638551655"
      ]
     },
     "execution_count": 118,
     "metadata": {},
     "output_type": "execute_result"
    }
   ],
   "source": [
    "from sklearn.metrics import mean_squared_error as mse\n",
    "mse(y_test, y_pred, squared=False)"
   ]
  },
  {
   "cell_type": "code",
   "execution_count": 114,
   "metadata": {},
   "outputs": [],
   "source": [
    "from sklearn.ensemble import GradientBoostingRegressor\n",
    "GBR2 = GradientBoostingRegressor()"
   ]
  },
  {
   "cell_type": "code",
   "execution_count": 115,
   "metadata": {},
   "outputs": [
    {
     "data": {
      "text/plain": [
       "GradientBoostingRegressor()"
      ]
     },
     "execution_count": 115,
     "metadata": {},
     "output_type": "execute_result"
    }
   ],
   "source": [
    "GBR2.fit(X_train, y_train)"
   ]
  },
  {
   "cell_type": "code",
   "execution_count": 116,
   "metadata": {},
   "outputs": [],
   "source": [
    "y_pred2 = GBR2.predict(X_test)"
   ]
  },
  {
   "cell_type": "code",
   "execution_count": 119,
   "metadata": {},
   "outputs": [
    {
     "data": {
      "text/plain": [
       "2638621.1051511085"
      ]
     },
     "execution_count": 119,
     "metadata": {},
     "output_type": "execute_result"
    }
   ],
   "source": [
    "mse(y_test, y_pred2, squared=False)"
   ]
  },
  {
   "cell_type": "code",
   "execution_count": 120,
   "metadata": {},
   "outputs": [],
   "source": [
    "pred1 = GBR.predict(test)"
   ]
  },
  {
   "cell_type": "code",
   "execution_count": 123,
   "metadata": {},
   "outputs": [],
   "source": [
    "index = [i for i in range(len(pred1))]"
   ]
  },
  {
   "cell_type": "code",
   "execution_count": 121,
   "metadata": {},
   "outputs": [
    {
     "data": {
      "text/plain": [
       "array([ 4699383.02350222, 15769489.52031978,  9801847.1590442 ,\n",
       "        3845737.83618692,  3885023.26177121,  3692479.90792202,\n",
       "        2847803.27926778,  3172391.69887023,  5398348.10858992,\n",
       "        9137295.36011144,  4391553.50927823,  6041442.01909594,\n",
       "        8959785.16504362,  3562781.58355561,  3533021.47026329,\n",
       "        5614016.27977609,  8537600.3490336 ,  8763484.06032996,\n",
       "        8505954.83672273,  4700650.23734814, 12524141.62301228,\n",
       "       10693066.52335776,  9067177.58634561,  5800764.9762091 ,\n",
       "        3685709.85461221,  3020159.89537503,  3845737.83618692,\n",
       "        3629194.33345896,  3877085.28162719,  9135248.89364305,\n",
       "        8793224.83177104,  2823803.90826125,  8575204.82337259,\n",
       "        5043445.17553872,  3877085.28162719,  9135248.89364305,\n",
       "        2757852.971881  ,  5133843.72400311,  3635910.05712057,\n",
       "       22177603.50095948,  6064297.61705683,  6197500.19351179,\n",
       "        3563076.9484315 ,  8439983.83353763,  5800764.9762091 ,\n",
       "        8886433.84956227,  5309144.02646457,  5399425.34116734,\n",
       "        3020159.89537503,  3020159.89537503, 12525918.02221941,\n",
       "        9394575.19529356,  3644199.47505692,  3665285.67633378,\n",
       "       10737115.76194029,  6064297.61705683,  5747218.85623105,\n",
       "       10027054.97800714,  3229981.98004484,  9135248.89364305,\n",
       "        5614016.27977609,  5997066.04378698,  3757053.22328656,\n",
       "        2670697.97101291, 12368758.98259785,  5614016.27977609,\n",
       "        3111313.60704472,  5762765.71248831,  6064297.61705683,\n",
       "       15135659.00020108, 14978707.15792874,  4632872.92580429,\n",
       "       18172215.49016517,  5945138.18478683,  7650608.07399988,\n",
       "        3744617.17767702, 18374073.43530842,  3090928.60968459,\n",
       "        2820155.50409484,  4280338.96758305,  8335823.4123738 ,\n",
       "       12648459.97329123,  5724576.95931083, 14228087.23195257,\n",
       "        3614369.11938672, 11853174.37798915, 12648459.97329123,\n",
       "        8505954.83672273, 15880809.90831724,  8651941.52394449,\n",
       "       19699774.06745824,  8351705.78789112,  3090928.60968459,\n",
       "        3057625.36393759,  9912713.80309625,  5933967.55266406,\n",
       "       10027054.97800714,  5482545.11365047,  3111791.65046385,\n",
       "       15708584.24453939,  3057625.36393759,  3225469.39204113,\n",
       "       17369962.3867755 , 16362548.25090107,  3966808.5523384 ,\n",
       "       20451769.1506197 ,  5591374.38285587,  3111313.60704472,\n",
       "        8606002.94941934,  7775734.11965171,  3102773.56789523,\n",
       "        3380719.87342825,  4249758.44321577,  2783278.74952224,\n",
       "       12053322.62019588,  4649383.31944513,  4123263.20157549,\n",
       "        8516140.19549602,  5316056.82519125,  9499828.09478308,\n",
       "        5133723.02243402, 14978707.15792874,  4392510.1014617 ,\n",
       "        4973526.34419091,  5093956.79495498,  8987464.96835137,\n",
       "       13677405.77263344,  9489189.23265724,  9518893.58002578,\n",
       "        3571137.05597626,  3882680.8858445 , 12485591.0720459 ,\n",
       "        8659815.87511548,  3120576.96691918,  3418472.94818145,\n",
       "       10202945.04147218,  3811038.29067999,  9430739.34979096,\n",
       "       14989599.81722494, 17678100.75336511, 14859417.63449708,\n",
       "        9518893.58002578,  2204402.47889842,  5867996.54947895,\n",
       "        6064297.61705683,  2702159.65141937,  3398515.80484928,\n",
       "        8875521.12944207,  3966808.5523384 ,  9489189.23265724,\n",
       "        7745868.35882436, 10500735.24438286,  4807817.97676761,\n",
       "       11717385.54804676,  2723922.46943786,  8217997.90340666,\n",
       "        3199376.09937509, 14348294.26657701,  9528210.94525113,\n",
       "        4058873.90146165, 15135659.00020108,  8240639.80032688,\n",
       "       19156346.40385434,  9067177.58634561,  8537600.3490336 ,\n",
       "        9219399.22758667, 15207078.06866882,  9219399.22758667,\n",
       "        9912713.80309625,  7822353.1291039 ,  5614016.27977609,\n",
       "       16486419.08560856,  2783278.74952224,  3501931.70176273,\n",
       "        5271777.91956238,  7234459.46347477, 13384391.62773316,\n",
       "        3882343.71279729, 15769489.52031978, 10917380.14264771,\n",
       "        7540803.2720464 , 16172687.64447125,  9135248.89364305,\n",
       "       12622199.57088458,  7132565.38007645,  3711818.7099208 ,\n",
       "        2702159.65141937, 14541242.35490285,  5591374.38285587,\n",
       "        2816400.91047536,  2670697.97101291,  7002601.53455128,\n",
       "        5747218.85623105, 12308209.683265  ,  3199119.85600243,\n",
       "        2702159.65141937,  5296262.0249692 ,  3768378.16107074,\n",
       "        4961277.51004088, 13639057.61992499, 12272245.86325213,\n",
       "        3090928.60968459, 16372077.91069767,  5877429.12101081,\n",
       "        5836439.5893291 ,  3419517.43975529,  3762489.6417643 ,\n",
       "        9174564.75214774, 12134470.7604852 ,  4275203.37928966,\n",
       "       12285143.06936723, 15708584.24453939,  6603460.88382567,\n",
       "        6248504.43064406,  3229981.98004484,  8351705.78789112,\n",
       "        8537600.3490336 ,  7519783.88748652,  2746670.97770871,\n",
       "       16362548.25090107,  3272562.14597402, 15741132.9338154 ,\n",
       "        3305077.89692162,  4404851.61197761, 12307354.98992471,\n",
       "       16347080.03439778,  6917450.72781822,  5254650.5803032 ,\n",
       "        4896223.5447193 ,  3501931.70176273,  5126445.90719574,\n",
       "       12574205.91320893,  9918224.06585797, 12362453.59688953,\n",
       "       15798196.95786217,  7650608.07399988, 15741132.9338154 ,\n",
       "        2381050.49044598,  3448007.60051778,  4868718.67052403,\n",
       "        8173903.13474613,  8891275.61398919,  5747218.85623105,\n",
       "        9007331.51458626,  3944655.16463364,  9912713.80309625,\n",
       "        3209603.00126834,  5133723.02243402, 12640259.1971303 ,\n",
       "        3175170.10428514, 12485591.0720459 ,  9067177.58634561,\n",
       "       12187559.73031931, 15116776.62485843,  4055743.69823516,\n",
       "       15741132.9338154 ,  4413038.65577542,  3241128.04018763,\n",
       "       16888137.17539119,  3057625.36393759,  8099302.18527862,\n",
       "       12084017.68794452,  3885023.26177121,  8573186.40999259,\n",
       "        2494780.4287121 , 16568294.67534245,  3835609.73434059,\n",
       "       12524141.62301228,  3020159.89537503, 12615911.28401522,\n",
       "        4614113.1005269 , 12134946.85720088,  4249758.44321577,\n",
       "        3465422.01494969,  3599070.29035759,  6064297.61705683,\n",
       "        4826063.55967092,  3747973.04731218, 14735194.22163658,\n",
       "        2786294.06572868,  7553432.9234824 ,  8099302.18527862,\n",
       "        3944531.63000587,  9948332.35263467,  3386940.2342328 ,\n",
       "        2843151.68252312,  3199119.85600243,  5467248.09759269,\n",
       "        5316531.00597138,  4179976.27584363,  2429779.47916889,\n",
       "        3340775.35616729,  4205001.66461203, 14630565.03458462,\n",
       "        2975318.92398051,  3698608.54897124,  3199119.85600243,\n",
       "        9948332.35263467,  3386940.2342328 ,  2843151.68252312,\n",
       "        3199119.85600243,  5467248.09759269,  5316531.00597138,\n",
       "        4179976.27584363,  2429779.47916889,  3340775.35616729,\n",
       "        4205001.66461203, 14630565.03458462,  2975318.92398051,\n",
       "        3698608.54897124,  3199119.85600243,  9948332.35263467,\n",
       "        3386940.2342328 ,  2843151.68252312,  3199119.85600243,\n",
       "        5467248.09759269,  5316531.00597138,  4179976.27584363,\n",
       "        2429779.47916889,  3340775.35616729,  4205001.66461203,\n",
       "       14630565.03458462,  2975318.92398051,  3698608.54897124,\n",
       "        3199119.85600243])"
      ]
     },
     "execution_count": 121,
     "metadata": {},
     "output_type": "execute_result"
    }
   ],
   "source": [
    "pred1"
   ]
  },
  {
   "cell_type": "code",
   "execution_count": 143,
   "metadata": {},
   "outputs": [
    {
     "name": "stdout",
     "output_type": "stream",
     "text": [
      "          Price\n",
      "0    4699383.02\n",
      "1   15769489.52\n",
      "2    9801847.16\n",
      "3    3845737.84\n",
      "4    3885023.26\n",
      "..          ...\n",
      "320  4205001.66\n",
      "321 14630565.03\n",
      "322  2975318.92\n",
      "323  3698608.55\n",
      "324  3199119.86\n",
      "\n",
      "[325 rows x 1 columns]\n"
     ]
    }
   ],
   "source": [
    "prediccion1 = pd.DataFrame(data=pred1, columns=['Price'])\n",
    "\n",
    "# Display the DataFrame\n",
    "print(prediccion1)"
   ]
  },
  {
   "cell_type": "code",
   "execution_count": 145,
   "metadata": {},
   "outputs": [],
   "source": [
    "prediccion1['id'] = index"
   ]
  },
  {
   "cell_type": "code",
   "execution_count": 146,
   "metadata": {},
   "outputs": [],
   "source": [
    "prediccion1.to_csv(r\"C:\\Users\\Juan\\Desktop\\IronHack_apuntes\\Proyecto-Competicion-Kaggle\\prediccion1GBR.csv\", index=False)"
   ]
  },
  {
   "cell_type": "code",
   "execution_count": 150,
   "metadata": {},
   "outputs": [],
   "source": [
    "pred2 = GBR2.predict(test)\n",
    "prediccion2 = pd.DataFrame(data=pred2, columns=['Price'])\n",
    "prediccion2['id'] = index\n",
    "\n",
    "prediccion2.to_csv(r\"C:\\Users\\Juan\\Desktop\\IronHack_apuntes\\Proyecto-Competicion-Kaggle\\prediccion2GBR.csv\", index=False)"
   ]
  },
  {
   "cell_type": "code",
   "execution_count": null,
   "metadata": {},
   "outputs": [],
   "source": [
    "'''\n",
    "Menuda castaña, creo que parte del problema es lo que he hecho con la pantalla, voy a probar este y me voy a sobar\n",
    "\n",
    "'''"
   ]
  },
  {
   "cell_type": "code",
   "execution_count": 151,
   "metadata": {},
   "outputs": [],
   "source": [
    "from sklearn.ensemble import RandomForestRegressor\n",
    "RFR = RandomForestRegressor()\n"
   ]
  },
  {
   "cell_type": "code",
   "execution_count": 152,
   "metadata": {},
   "outputs": [],
   "source": [
    "RFR.fit(X_train, y_train)\n",
    "pred3 = RFR.predict(test)\n",
    "prediccion3 = pd.DataFrame(data=pred3, columns=['Price'])\n",
    "prediccion3['id'] = index\n",
    "\n",
    "prediccion3.to_csv(r\"C:\\Users\\Juan\\Desktop\\IronHack_apuntes\\Proyecto-Competicion-Kaggle\\prediccion3RFR.csv\", index=False)"
   ]
  },
  {
   "cell_type": "code",
   "execution_count": null,
   "metadata": {},
   "outputs": [],
   "source": []
  },
  {
   "cell_type": "code",
   "execution_count": null,
   "metadata": {},
   "outputs": [],
   "source": []
  }
 ],
 "metadata": {
  "kernelspec": {
   "display_name": "base",
   "language": "python",
   "name": "python3"
  },
  "language_info": {
   "codemirror_mode": {
    "name": "ipython",
    "version": 3
   },
   "file_extension": ".py",
   "mimetype": "text/x-python",
   "name": "python",
   "nbconvert_exporter": "python",
   "pygments_lexer": "ipython3",
   "version": "3.9.13"
  },
  "orig_nbformat": 4
 },
 "nbformat": 4,
 "nbformat_minor": 2
}
