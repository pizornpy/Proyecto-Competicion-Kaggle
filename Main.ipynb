{
 "cells": [
  {
   "cell_type": "code",
   "execution_count": 2,
   "metadata": {},
   "outputs": [],
   "source": [
    "import pandas as pd"
   ]
  },
  {
   "cell_type": "code",
   "execution_count": 3,
   "metadata": {},
   "outputs": [],
   "source": [
    "muestra = pd.read_csv(r\"C:\\Users\\Juan\\Desktop\\IronHack_apuntes\\Proyecto-Competicion-Kaggle\\muestra.csv\")"
   ]
  },
  {
   "cell_type": "code",
   "execution_count": 4,
   "metadata": {},
   "outputs": [],
   "source": [
    "test = pd.read_csv(r\"C:\\Users\\Juan\\Desktop\\IronHack_apuntes\\Proyecto-Competicion-Kaggle\\test.csv\")"
   ]
  },
  {
   "cell_type": "code",
   "execution_count": 5,
   "metadata": {},
   "outputs": [],
   "source": [
    "train = pd.read_csv(r\"C:\\Users\\Juan\\Desktop\\IronHack_apuntes\\Proyecto-Competicion-Kaggle\\train.csv\")"
   ]
  },
  {
   "cell_type": "code",
   "execution_count": 6,
   "metadata": {},
   "outputs": [
    {
     "name": "stdout",
     "output_type": "stream",
     "text": [
      "<class 'pandas.core.frame.DataFrame'>\n",
      "RangeIndex: 977 entries, 0 to 976\n",
      "Data columns (total 13 columns):\n",
      " #   Column                    Non-Null Count  Dtype  \n",
      "---  ------                    --------------  -----  \n",
      " 0   Manufacturer              977 non-null    object \n",
      " 1   Model Name                977 non-null    object \n",
      " 2   Category                  977 non-null    object \n",
      " 3   Screen Size               977 non-null    object \n",
      " 4   Screen                    977 non-null    object \n",
      " 5   CPU                       977 non-null    object \n",
      " 6   RAM                       977 non-null    object \n",
      " 7    Storage                  977 non-null    object \n",
      " 8   GPU                       977 non-null    object \n",
      " 9   Operating System          977 non-null    object \n",
      " 10  Operating System Version  841 non-null    object \n",
      " 11  Weight                    977 non-null    object \n",
      " 12  Price                     977 non-null    float64\n",
      "dtypes: float64(1), object(12)\n",
      "memory usage: 99.4+ KB\n"
     ]
    }
   ],
   "source": [
    "train.info() #bastante feo el dataset"
   ]
  },
  {
   "cell_type": "code",
   "execution_count": 7,
   "metadata": {},
   "outputs": [
    {
     "data": {
      "text/plain": [
       "Notebook              549\n",
       "Ultrabook             152\n",
       "Gaming                150\n",
       "2 in 1 Convertible     85\n",
       "Workstation            24\n",
       "Netbook                17\n",
       "Name: Category, dtype: int64"
      ]
     },
     "execution_count": 7,
     "metadata": {},
     "output_type": "execute_result"
    }
   ],
   "source": [
    "train[\"Category\"].value_counts() #bueno, esto más o menos sirve"
   ]
  },
  {
   "cell_type": "code",
   "execution_count": 8,
   "metadata": {},
   "outputs": [
    {
     "data": {
      "text/plain": [
       "Intel HD Graphics 620             225\n",
       "Intel HD Graphics 520              98\n",
       "Intel UHD Graphics 620             66\n",
       "Nvidia GeForce GTX 1050            57\n",
       "AMD Radeon 530                     37\n",
       "                                 ... \n",
       "Nvidia GeForce GTX 960<U+039C>      1\n",
       "Intel Graphics 620                  1\n",
       "Nvidia GeForce GTX 960              1\n",
       "AMD Radeon R5 520                   1\n",
       "AMD Radeon R9 M385                  1\n",
       "Name: GPU, Length: 98, dtype: int64"
      ]
     },
     "execution_count": 8,
     "metadata": {},
     "output_type": "execute_result"
    }
   ],
   "source": [
    "train.GPU.value_counts() #aquí hay que agrupar unos cuantos en other"
   ]
  },
  {
   "cell_type": "code",
   "execution_count": 9,
   "metadata": {},
   "outputs": [
    {
     "data": {
      "text/plain": [
       "8GB     483\n",
       "4GB     271\n",
       "16GB    149\n",
       "6GB      24\n",
       "12GB     21\n",
       "32GB     16\n",
       "2GB      10\n",
       "24GB      3\n",
       "Name: RAM, dtype: int64"
      ]
     },
     "execution_count": 9,
     "metadata": {},
     "output_type": "execute_result"
    }
   ],
   "source": [
    "train.RAM.value_counts()"
   ]
  },
  {
   "cell_type": "code",
   "execution_count": null,
   "metadata": {},
   "outputs": [],
   "source": []
  },
  {
   "cell_type": "code",
   "execution_count": null,
   "metadata": {},
   "outputs": [],
   "source": []
  },
  {
   "cell_type": "code",
   "execution_count": null,
   "metadata": {},
   "outputs": [],
   "source": []
  },
  {
   "cell_type": "code",
   "execution_count": null,
   "metadata": {},
   "outputs": [],
   "source": []
  },
  {
   "cell_type": "code",
   "execution_count": null,
   "metadata": {},
   "outputs": [],
   "source": []
  },
  {
   "cell_type": "code",
   "execution_count": null,
   "metadata": {},
   "outputs": [],
   "source": []
  },
  {
   "cell_type": "code",
   "execution_count": null,
   "metadata": {},
   "outputs": [],
   "source": []
  },
  {
   "cell_type": "code",
   "execution_count": null,
   "metadata": {},
   "outputs": [],
   "source": []
  },
  {
   "cell_type": "code",
   "execution_count": null,
   "metadata": {},
   "outputs": [],
   "source": []
  },
  {
   "cell_type": "code",
   "execution_count": null,
   "metadata": {},
   "outputs": [],
   "source": []
  },
  {
   "cell_type": "code",
   "execution_count": null,
   "metadata": {},
   "outputs": [],
   "source": []
  },
  {
   "cell_type": "code",
   "execution_count": null,
   "metadata": {},
   "outputs": [],
   "source": []
  },
  {
   "cell_type": "code",
   "execution_count": null,
   "metadata": {},
   "outputs": [],
   "source": []
  },
  {
   "cell_type": "code",
   "execution_count": null,
   "metadata": {},
   "outputs": [],
   "source": []
  }
 ],
 "metadata": {
  "kernelspec": {
   "display_name": "base",
   "language": "python",
   "name": "python3"
  },
  "language_info": {
   "codemirror_mode": {
    "name": "ipython",
    "version": 3
   },
   "file_extension": ".py",
   "mimetype": "text/x-python",
   "name": "python",
   "nbconvert_exporter": "python",
   "pygments_lexer": "ipython3",
   "version": "3.9.13"
  },
  "orig_nbformat": 4
 },
 "nbformat": 4,
 "nbformat_minor": 2
}
